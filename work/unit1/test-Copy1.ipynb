{
 "cells": [
  {
   "cell_type": "code",
   "execution_count": 1,
   "metadata": {},
   "outputs": [
    {
     "name": "stdout",
     "output_type": "stream",
     "text": [
      "/opt/conda/bin/python\n"
     ]
    }
   ],
   "source": [
    "!which python"
   ]
  },
  {
   "cell_type": "code",
   "execution_count": 2,
   "metadata": {},
   "outputs": [
    {
     "name": "stdout",
     "output_type": "stream",
     "text": [
      "Python 3.11.6\n"
     ]
    }
   ],
   "source": [
    "!python --version"
   ]
  },
  {
   "cell_type": "code",
   "execution_count": 3,
   "metadata": {},
   "outputs": [],
   "source": [
    "import pandas as pd"
   ]
  },
  {
   "cell_type": "code",
   "execution_count": 185,
   "metadata": {},
   "outputs": [],
   "source": [
    "import pickle"
   ]
  },
  {
   "cell_type": "code",
   "execution_count": 4,
   "metadata": {},
   "outputs": [],
   "source": [
    "import seaborn as sns\n",
    "import matplotlib.pyplot as plt"
   ]
  },
  {
   "cell_type": "code",
   "execution_count": 68,
   "metadata": {},
   "outputs": [],
   "source": [
    "from sklearn.feature_extraction import DictVectorizer\n",
    "from sklearn.linear_model import LinearRegression\n",
    "\n",
    "from sklearn.metrics import mean_squared_error"
   ]
  },
  {
   "cell_type": "code",
   "execution_count": 5,
   "metadata": {},
   "outputs": [],
   "source": [
    "df = pd.read_parquet(\"./data/green/green_tripdata_2021-01.parquet\")"
   ]
  },
  {
   "cell_type": "code",
   "execution_count": 6,
   "metadata": {},
   "outputs": [
    {
     "data": {
      "text/plain": [
       "Index(['VendorID', 'lpep_pickup_datetime', 'lpep_dropoff_datetime',\n",
       "       'store_and_fwd_flag', 'RatecodeID', 'PULocationID', 'DOLocationID',\n",
       "       'passenger_count', 'trip_distance', 'fare_amount', 'extra', 'mta_tax',\n",
       "       'tip_amount', 'tolls_amount', 'ehail_fee', 'improvement_surcharge',\n",
       "       'total_amount', 'payment_type', 'trip_type', 'congestion_surcharge'],\n",
       "      dtype='object')"
      ]
     },
     "execution_count": 6,
     "metadata": {},
     "output_type": "execute_result"
    }
   ],
   "source": [
    "df.columns"
   ]
  },
  {
   "cell_type": "code",
   "execution_count": 7,
   "metadata": {},
   "outputs": [
    {
     "data": {
      "text/plain": [
       "VendorID                          int64\n",
       "lpep_pickup_datetime     datetime64[us]\n",
       "lpep_dropoff_datetime    datetime64[us]\n",
       "store_and_fwd_flag               object\n",
       "RatecodeID                      float64\n",
       "PULocationID                      int64\n",
       "DOLocationID                      int64\n",
       "passenger_count                 float64\n",
       "trip_distance                   float64\n",
       "fare_amount                     float64\n",
       "extra                           float64\n",
       "mta_tax                         float64\n",
       "tip_amount                      float64\n",
       "tolls_amount                    float64\n",
       "ehail_fee                        object\n",
       "improvement_surcharge           float64\n",
       "total_amount                    float64\n",
       "payment_type                    float64\n",
       "trip_type                       float64\n",
       "congestion_surcharge            float64\n",
       "dtype: object"
      ]
     },
     "execution_count": 7,
     "metadata": {},
     "output_type": "execute_result"
    }
   ],
   "source": [
    "df.dtypes"
   ]
  },
  {
   "cell_type": "code",
   "execution_count": 8,
   "metadata": {},
   "outputs": [
    {
     "data": {
      "text/html": [
       "<div>\n",
       "<style scoped>\n",
       "    .dataframe tbody tr th:only-of-type {\n",
       "        vertical-align: middle;\n",
       "    }\n",
       "\n",
       "    .dataframe tbody tr th {\n",
       "        vertical-align: top;\n",
       "    }\n",
       "\n",
       "    .dataframe thead th {\n",
       "        text-align: right;\n",
       "    }\n",
       "</style>\n",
       "<table border=\"1\" class=\"dataframe\">\n",
       "  <thead>\n",
       "    <tr style=\"text-align: right;\">\n",
       "      <th></th>\n",
       "      <th>VendorID</th>\n",
       "      <th>lpep_pickup_datetime</th>\n",
       "      <th>lpep_dropoff_datetime</th>\n",
       "      <th>store_and_fwd_flag</th>\n",
       "      <th>RatecodeID</th>\n",
       "      <th>PULocationID</th>\n",
       "      <th>DOLocationID</th>\n",
       "      <th>passenger_count</th>\n",
       "      <th>trip_distance</th>\n",
       "      <th>fare_amount</th>\n",
       "      <th>extra</th>\n",
       "      <th>mta_tax</th>\n",
       "      <th>tip_amount</th>\n",
       "      <th>tolls_amount</th>\n",
       "      <th>ehail_fee</th>\n",
       "      <th>improvement_surcharge</th>\n",
       "      <th>total_amount</th>\n",
       "      <th>payment_type</th>\n",
       "      <th>trip_type</th>\n",
       "      <th>congestion_surcharge</th>\n",
       "    </tr>\n",
       "  </thead>\n",
       "  <tbody>\n",
       "    <tr>\n",
       "      <th>0</th>\n",
       "      <td>2</td>\n",
       "      <td>2021-01-01 00:15:56</td>\n",
       "      <td>2021-01-01 00:19:52</td>\n",
       "      <td>N</td>\n",
       "      <td>1.0</td>\n",
       "      <td>43</td>\n",
       "      <td>151</td>\n",
       "      <td>1.0</td>\n",
       "      <td>1.01</td>\n",
       "      <td>5.50</td>\n",
       "      <td>0.50</td>\n",
       "      <td>0.5</td>\n",
       "      <td>0.00</td>\n",
       "      <td>0.00</td>\n",
       "      <td>None</td>\n",
       "      <td>0.3</td>\n",
       "      <td>6.80</td>\n",
       "      <td>2.0</td>\n",
       "      <td>1.0</td>\n",
       "      <td>0.00</td>\n",
       "    </tr>\n",
       "    <tr>\n",
       "      <th>1</th>\n",
       "      <td>2</td>\n",
       "      <td>2021-01-01 00:25:59</td>\n",
       "      <td>2021-01-01 00:34:44</td>\n",
       "      <td>N</td>\n",
       "      <td>1.0</td>\n",
       "      <td>166</td>\n",
       "      <td>239</td>\n",
       "      <td>1.0</td>\n",
       "      <td>2.53</td>\n",
       "      <td>10.00</td>\n",
       "      <td>0.50</td>\n",
       "      <td>0.5</td>\n",
       "      <td>2.81</td>\n",
       "      <td>0.00</td>\n",
       "      <td>None</td>\n",
       "      <td>0.3</td>\n",
       "      <td>16.86</td>\n",
       "      <td>1.0</td>\n",
       "      <td>1.0</td>\n",
       "      <td>2.75</td>\n",
       "    </tr>\n",
       "    <tr>\n",
       "      <th>2</th>\n",
       "      <td>2</td>\n",
       "      <td>2021-01-01 00:45:57</td>\n",
       "      <td>2021-01-01 00:51:55</td>\n",
       "      <td>N</td>\n",
       "      <td>1.0</td>\n",
       "      <td>41</td>\n",
       "      <td>42</td>\n",
       "      <td>1.0</td>\n",
       "      <td>1.12</td>\n",
       "      <td>6.00</td>\n",
       "      <td>0.50</td>\n",
       "      <td>0.5</td>\n",
       "      <td>1.00</td>\n",
       "      <td>0.00</td>\n",
       "      <td>None</td>\n",
       "      <td>0.3</td>\n",
       "      <td>8.30</td>\n",
       "      <td>1.0</td>\n",
       "      <td>1.0</td>\n",
       "      <td>0.00</td>\n",
       "    </tr>\n",
       "    <tr>\n",
       "      <th>3</th>\n",
       "      <td>2</td>\n",
       "      <td>2020-12-31 23:57:51</td>\n",
       "      <td>2021-01-01 00:04:56</td>\n",
       "      <td>N</td>\n",
       "      <td>1.0</td>\n",
       "      <td>168</td>\n",
       "      <td>75</td>\n",
       "      <td>1.0</td>\n",
       "      <td>1.99</td>\n",
       "      <td>8.00</td>\n",
       "      <td>0.50</td>\n",
       "      <td>0.5</td>\n",
       "      <td>0.00</td>\n",
       "      <td>0.00</td>\n",
       "      <td>None</td>\n",
       "      <td>0.3</td>\n",
       "      <td>9.30</td>\n",
       "      <td>2.0</td>\n",
       "      <td>1.0</td>\n",
       "      <td>0.00</td>\n",
       "    </tr>\n",
       "    <tr>\n",
       "      <th>4</th>\n",
       "      <td>2</td>\n",
       "      <td>2021-01-01 00:16:36</td>\n",
       "      <td>2021-01-01 00:16:40</td>\n",
       "      <td>N</td>\n",
       "      <td>2.0</td>\n",
       "      <td>265</td>\n",
       "      <td>265</td>\n",
       "      <td>3.0</td>\n",
       "      <td>0.00</td>\n",
       "      <td>-52.00</td>\n",
       "      <td>0.00</td>\n",
       "      <td>-0.5</td>\n",
       "      <td>0.00</td>\n",
       "      <td>0.00</td>\n",
       "      <td>None</td>\n",
       "      <td>-0.3</td>\n",
       "      <td>-52.80</td>\n",
       "      <td>3.0</td>\n",
       "      <td>1.0</td>\n",
       "      <td>0.00</td>\n",
       "    </tr>\n",
       "    <tr>\n",
       "      <th>...</th>\n",
       "      <td>...</td>\n",
       "      <td>...</td>\n",
       "      <td>...</td>\n",
       "      <td>...</td>\n",
       "      <td>...</td>\n",
       "      <td>...</td>\n",
       "      <td>...</td>\n",
       "      <td>...</td>\n",
       "      <td>...</td>\n",
       "      <td>...</td>\n",
       "      <td>...</td>\n",
       "      <td>...</td>\n",
       "      <td>...</td>\n",
       "      <td>...</td>\n",
       "      <td>...</td>\n",
       "      <td>...</td>\n",
       "      <td>...</td>\n",
       "      <td>...</td>\n",
       "      <td>...</td>\n",
       "      <td>...</td>\n",
       "    </tr>\n",
       "    <tr>\n",
       "      <th>76513</th>\n",
       "      <td>2</td>\n",
       "      <td>2021-01-31 21:38:00</td>\n",
       "      <td>2021-01-31 22:16:00</td>\n",
       "      <td>None</td>\n",
       "      <td>NaN</td>\n",
       "      <td>81</td>\n",
       "      <td>90</td>\n",
       "      <td>NaN</td>\n",
       "      <td>17.63</td>\n",
       "      <td>56.23</td>\n",
       "      <td>2.75</td>\n",
       "      <td>0.0</td>\n",
       "      <td>0.00</td>\n",
       "      <td>6.12</td>\n",
       "      <td>None</td>\n",
       "      <td>0.3</td>\n",
       "      <td>65.40</td>\n",
       "      <td>NaN</td>\n",
       "      <td>NaN</td>\n",
       "      <td>NaN</td>\n",
       "    </tr>\n",
       "    <tr>\n",
       "      <th>76514</th>\n",
       "      <td>2</td>\n",
       "      <td>2021-01-31 22:43:00</td>\n",
       "      <td>2021-01-31 23:21:00</td>\n",
       "      <td>None</td>\n",
       "      <td>NaN</td>\n",
       "      <td>35</td>\n",
       "      <td>213</td>\n",
       "      <td>NaN</td>\n",
       "      <td>18.36</td>\n",
       "      <td>46.66</td>\n",
       "      <td>0.00</td>\n",
       "      <td>0.0</td>\n",
       "      <td>12.20</td>\n",
       "      <td>6.12</td>\n",
       "      <td>None</td>\n",
       "      <td>0.3</td>\n",
       "      <td>65.28</td>\n",
       "      <td>NaN</td>\n",
       "      <td>NaN</td>\n",
       "      <td>NaN</td>\n",
       "    </tr>\n",
       "    <tr>\n",
       "      <th>76515</th>\n",
       "      <td>2</td>\n",
       "      <td>2021-01-31 22:16:00</td>\n",
       "      <td>2021-01-31 22:27:00</td>\n",
       "      <td>None</td>\n",
       "      <td>NaN</td>\n",
       "      <td>74</td>\n",
       "      <td>69</td>\n",
       "      <td>NaN</td>\n",
       "      <td>2.50</td>\n",
       "      <td>18.95</td>\n",
       "      <td>2.75</td>\n",
       "      <td>0.0</td>\n",
       "      <td>0.00</td>\n",
       "      <td>0.00</td>\n",
       "      <td>None</td>\n",
       "      <td>0.3</td>\n",
       "      <td>22.00</td>\n",
       "      <td>NaN</td>\n",
       "      <td>NaN</td>\n",
       "      <td>NaN</td>\n",
       "    </tr>\n",
       "    <tr>\n",
       "      <th>76516</th>\n",
       "      <td>2</td>\n",
       "      <td>2021-01-31 23:10:00</td>\n",
       "      <td>2021-01-31 23:37:00</td>\n",
       "      <td>None</td>\n",
       "      <td>NaN</td>\n",
       "      <td>168</td>\n",
       "      <td>215</td>\n",
       "      <td>NaN</td>\n",
       "      <td>14.48</td>\n",
       "      <td>48.87</td>\n",
       "      <td>2.75</td>\n",
       "      <td>0.0</td>\n",
       "      <td>0.00</td>\n",
       "      <td>6.12</td>\n",
       "      <td>None</td>\n",
       "      <td>0.3</td>\n",
       "      <td>58.04</td>\n",
       "      <td>NaN</td>\n",
       "      <td>NaN</td>\n",
       "      <td>NaN</td>\n",
       "    </tr>\n",
       "    <tr>\n",
       "      <th>76517</th>\n",
       "      <td>2</td>\n",
       "      <td>2021-01-31 23:25:00</td>\n",
       "      <td>2021-01-31 23:35:00</td>\n",
       "      <td>None</td>\n",
       "      <td>NaN</td>\n",
       "      <td>119</td>\n",
       "      <td>244</td>\n",
       "      <td>NaN</td>\n",
       "      <td>1.81</td>\n",
       "      <td>15.45</td>\n",
       "      <td>2.75</td>\n",
       "      <td>0.0</td>\n",
       "      <td>0.00</td>\n",
       "      <td>0.00</td>\n",
       "      <td>None</td>\n",
       "      <td>0.3</td>\n",
       "      <td>18.50</td>\n",
       "      <td>NaN</td>\n",
       "      <td>NaN</td>\n",
       "      <td>NaN</td>\n",
       "    </tr>\n",
       "  </tbody>\n",
       "</table>\n",
       "<p>76518 rows × 20 columns</p>\n",
       "</div>"
      ],
      "text/plain": [
       "       VendorID lpep_pickup_datetime lpep_dropoff_datetime store_and_fwd_flag  \\\n",
       "0             2  2021-01-01 00:15:56   2021-01-01 00:19:52                  N   \n",
       "1             2  2021-01-01 00:25:59   2021-01-01 00:34:44                  N   \n",
       "2             2  2021-01-01 00:45:57   2021-01-01 00:51:55                  N   \n",
       "3             2  2020-12-31 23:57:51   2021-01-01 00:04:56                  N   \n",
       "4             2  2021-01-01 00:16:36   2021-01-01 00:16:40                  N   \n",
       "...         ...                  ...                   ...                ...   \n",
       "76513         2  2021-01-31 21:38:00   2021-01-31 22:16:00               None   \n",
       "76514         2  2021-01-31 22:43:00   2021-01-31 23:21:00               None   \n",
       "76515         2  2021-01-31 22:16:00   2021-01-31 22:27:00               None   \n",
       "76516         2  2021-01-31 23:10:00   2021-01-31 23:37:00               None   \n",
       "76517         2  2021-01-31 23:25:00   2021-01-31 23:35:00               None   \n",
       "\n",
       "       RatecodeID  PULocationID  DOLocationID  passenger_count  trip_distance  \\\n",
       "0             1.0            43           151              1.0           1.01   \n",
       "1             1.0           166           239              1.0           2.53   \n",
       "2             1.0            41            42              1.0           1.12   \n",
       "3             1.0           168            75              1.0           1.99   \n",
       "4             2.0           265           265              3.0           0.00   \n",
       "...           ...           ...           ...              ...            ...   \n",
       "76513         NaN            81            90              NaN          17.63   \n",
       "76514         NaN            35           213              NaN          18.36   \n",
       "76515         NaN            74            69              NaN           2.50   \n",
       "76516         NaN           168           215              NaN          14.48   \n",
       "76517         NaN           119           244              NaN           1.81   \n",
       "\n",
       "       fare_amount  extra  mta_tax  tip_amount  tolls_amount ehail_fee  \\\n",
       "0             5.50   0.50      0.5        0.00          0.00      None   \n",
       "1            10.00   0.50      0.5        2.81          0.00      None   \n",
       "2             6.00   0.50      0.5        1.00          0.00      None   \n",
       "3             8.00   0.50      0.5        0.00          0.00      None   \n",
       "4           -52.00   0.00     -0.5        0.00          0.00      None   \n",
       "...            ...    ...      ...         ...           ...       ...   \n",
       "76513        56.23   2.75      0.0        0.00          6.12      None   \n",
       "76514        46.66   0.00      0.0       12.20          6.12      None   \n",
       "76515        18.95   2.75      0.0        0.00          0.00      None   \n",
       "76516        48.87   2.75      0.0        0.00          6.12      None   \n",
       "76517        15.45   2.75      0.0        0.00          0.00      None   \n",
       "\n",
       "       improvement_surcharge  total_amount  payment_type  trip_type  \\\n",
       "0                        0.3          6.80           2.0        1.0   \n",
       "1                        0.3         16.86           1.0        1.0   \n",
       "2                        0.3          8.30           1.0        1.0   \n",
       "3                        0.3          9.30           2.0        1.0   \n",
       "4                       -0.3        -52.80           3.0        1.0   \n",
       "...                      ...           ...           ...        ...   \n",
       "76513                    0.3         65.40           NaN        NaN   \n",
       "76514                    0.3         65.28           NaN        NaN   \n",
       "76515                    0.3         22.00           NaN        NaN   \n",
       "76516                    0.3         58.04           NaN        NaN   \n",
       "76517                    0.3         18.50           NaN        NaN   \n",
       "\n",
       "       congestion_surcharge  \n",
       "0                      0.00  \n",
       "1                      2.75  \n",
       "2                      0.00  \n",
       "3                      0.00  \n",
       "4                      0.00  \n",
       "...                     ...  \n",
       "76513                   NaN  \n",
       "76514                   NaN  \n",
       "76515                   NaN  \n",
       "76516                   NaN  \n",
       "76517                   NaN  \n",
       "\n",
       "[76518 rows x 20 columns]"
      ]
     },
     "execution_count": 8,
     "metadata": {},
     "output_type": "execute_result"
    }
   ],
   "source": [
    "df"
   ]
  },
  {
   "cell_type": "code",
   "execution_count": 9,
   "metadata": {},
   "outputs": [],
   "source": [
    "df['duration'] = df.lpep_dropoff_datetime - df.lpep_pickup_datetime \t"
   ]
  },
  {
   "cell_type": "code",
   "execution_count": 10,
   "metadata": {},
   "outputs": [
    {
     "data": {
      "text/plain": [
       "0       0 days 00:03:56\n",
       "1       0 days 00:08:45\n",
       "2       0 days 00:05:58\n",
       "3       0 days 00:07:05\n",
       "4       0 days 00:00:04\n",
       "              ...      \n",
       "76513   0 days 00:38:00\n",
       "76514   0 days 00:38:00\n",
       "76515   0 days 00:11:00\n",
       "76516   0 days 00:27:00\n",
       "76517   0 days 00:10:00\n",
       "Name: duration, Length: 76518, dtype: timedelta64[us]"
      ]
     },
     "execution_count": 10,
     "metadata": {},
     "output_type": "execute_result"
    }
   ],
   "source": [
    "df.duration"
   ]
  },
  {
   "cell_type": "code",
   "execution_count": 11,
   "metadata": {},
   "outputs": [],
   "source": [
    "df.duration = df.duration.apply(lambda td: td.total_seconds()/60)"
   ]
  },
  {
   "cell_type": "code",
   "execution_count": 12,
   "metadata": {},
   "outputs": [
    {
     "data": {
      "text/plain": [
       "0         3.933333\n",
       "1         8.750000\n",
       "2         5.966667\n",
       "3         7.083333\n",
       "4         0.066667\n",
       "           ...    \n",
       "76513    38.000000\n",
       "76514    38.000000\n",
       "76515    11.000000\n",
       "76516    27.000000\n",
       "76517    10.000000\n",
       "Name: duration, Length: 76518, dtype: float64"
      ]
     },
     "execution_count": 12,
     "metadata": {},
     "output_type": "execute_result"
    }
   ],
   "source": [
    "df.duration"
   ]
  },
  {
   "cell_type": "code",
   "execution_count": 13,
   "metadata": {},
   "outputs": [
    {
     "name": "stderr",
     "output_type": "stream",
     "text": [
      "/tmp/ipykernel_273/3426635498.py:1: UserWarning: \n",
      "\n",
      "`distplot` is a deprecated function and will be removed in seaborn v0.14.0.\n",
      "\n",
      "Please adapt your code to use either `displot` (a figure-level function with\n",
      "similar flexibility) or `histplot` (an axes-level function for histograms).\n",
      "\n",
      "For a guide to updating your code to use the new functions, please see\n",
      "https://gist.github.com/mwaskom/de44147ed2974457ad6372750bbe5751\n",
      "\n",
      "  sns.distplot(df.duration)\n"
     ]
    },
    {
     "data": {
      "text/plain": [
       "<Axes: xlabel='duration', ylabel='Density'>"
      ]
     },
     "execution_count": 13,
     "metadata": {},
     "output_type": "execute_result"
    },
    {
     "data": {
      "image/png": "[encoded data removed]",
      "text/plain": [
       "<Figure size 640x480 with 1 Axes>"
      ]
     },
     "metadata": {},
     "output_type": "display_data"
    }
   ],
   "source": [
    "sns.distplot(df.duration)"
   ]
  },
  {
   "cell_type": "code",
   "execution_count": 14,
   "metadata": {},
   "outputs": [
    {
     "data": {
      "text/plain": [
       "count    76518.000000\n",
       "mean        19.927896\n",
       "std         59.338594\n",
       "min          0.000000\n",
       "25%          8.000000\n",
       "50%         13.883333\n",
       "75%         23.000000\n",
       "max       1439.600000\n",
       "Name: duration, dtype: float64"
      ]
     },
     "execution_count": 14,
     "metadata": {},
     "output_type": "execute_result"
    }
   ],
   "source": [
    "df.duration.describe()"
   ]
  },
  {
   "cell_type": "code",
   "execution_count": 15,
   "metadata": {},
   "outputs": [
    {
     "data": {
      "text/plain": [
       "0.9658903787344154"
      ]
     },
     "execution_count": 15,
     "metadata": {},
     "output_type": "execute_result"
    }
   ],
   "source": [
    "((df.duration >= 1) & (df.duration <= 60)).mean()"
   ]
  },
  {
   "cell_type": "code",
   "execution_count": 16,
   "metadata": {},
   "outputs": [
    {
     "data": {
      "text/plain": [
       "array([ 1.,  2., nan])"
      ]
     },
     "execution_count": 16,
     "metadata": {},
     "output_type": "execute_result"
    }
   ],
   "source": [
    "df.trip_type.unique()"
   ]
  },
  {
   "cell_type": "code",
   "execution_count": 17,
   "metadata": {},
   "outputs": [
    {
     "name": "stderr",
     "output_type": "stream",
     "text": [
      "/tmp/ipykernel_273/899120127.py:1: UserWarning: \n",
      "\n",
      "`distplot` is a deprecated function and will be removed in seaborn v0.14.0.\n",
      "\n",
      "Please adapt your code to use either `displot` (a figure-level function with\n",
      "similar flexibility) or `histplot` (an axes-level function for histograms).\n",
      "\n",
      "For a guide to updating your code to use the new functions, please see\n",
      "https://gist.github.com/mwaskom/de44147ed2974457ad6372750bbe5751\n",
      "\n",
      "  sns.distplot(df.trip_distance)\n"
     ]
    },
    {
     "data": {
      "text/plain": [
       "<Axes: xlabel='trip_distance', ylabel='Density'>"
      ]
     },
     "execution_count": 17,
     "metadata": {},
     "output_type": "execute_result"
    },
    {
     "data": {
      "image/png": "[encoded data removed]",
      "text/plain": [
       "<Figure size 640x480 with 1 Axes>"
      ]
     },
     "metadata": {},
     "output_type": "display_data"
    }
   ],
   "source": [
    "sns.distplot(df.trip_distance)"
   ]
  },
  {
   "cell_type": "code",
   "execution_count": 18,
   "metadata": {},
   "outputs": [
    {
     "data": {
      "text/plain": [
       "count     76518.000000\n",
       "mean         40.862552\n",
       "std        1924.408778\n",
       "min           0.000000\n",
       "50%           2.590000\n",
       "99.9%        46.112530\n",
       "max      244152.010000\n",
       "Name: trip_distance, dtype: float64"
      ]
     },
     "execution_count": 18,
     "metadata": {},
     "output_type": "execute_result"
    }
   ],
   "source": [
    "df.trip_distance.describe(percentiles=[0.999])"
   ]
  },
  {
   "cell_type": "code",
   "execution_count": 19,
   "metadata": {},
   "outputs": [],
   "source": [
    "df = df[(df.duration >= 1) & (df.duration <= 60)]"
   ]
  },
  {
   "cell_type": "code",
   "execution_count": 20,
   "metadata": {},
   "outputs": [
    {
     "data": {
      "text/plain": [
       "count     73908.00000\n",
       "mean         42.04772\n",
       "std        1958.08235\n",
       "min           0.00000\n",
       "50%           2.60000\n",
       "99.9%        39.82765\n",
       "max      244152.01000\n",
       "Name: trip_distance, dtype: float64"
      ]
     },
     "execution_count": 20,
     "metadata": {},
     "output_type": "execute_result"
    }
   ],
   "source": [
    "df.trip_distance.describe(percentiles=[0.999])"
   ]
  },
  {
   "cell_type": "code",
   "execution_count": 21,
   "metadata": {},
   "outputs": [
    {
     "name": "stderr",
     "output_type": "stream",
     "text": [
      "/tmp/ipykernel_273/899120127.py:1: UserWarning: \n",
      "\n",
      "`distplot` is a deprecated function and will be removed in seaborn v0.14.0.\n",
      "\n",
      "Please adapt your code to use either `displot` (a figure-level function with\n",
      "similar flexibility) or `histplot` (an axes-level function for histograms).\n",
      "\n",
      "For a guide to updating your code to use the new functions, please see\n",
      "https://gist.github.com/mwaskom/de44147ed2974457ad6372750bbe5751\n",
      "\n",
      "  sns.distplot(df.trip_distance)\n"
     ]
    },
    {
     "data": {
      "text/plain": [
       "<Axes: xlabel='trip_distance', ylabel='Density'>"
      ]
     },
     "execution_count": 21,
     "metadata": {},
     "output_type": "execute_result"
    },
    {
     "data": {
      "image/png": "[encoded data removed]",
      "text/plain": [
       "<Figure size 640x480 with 1 Axes>"
      ]
     },
     "metadata": {},
     "output_type": "display_data"
    }
   ],
   "source": [
    "sns.distplot(df.trip_distance)"
   ]
  },
  {
   "cell_type": "code",
   "execution_count": 22,
   "metadata": {},
   "outputs": [],
   "source": [
    "df = df[(df.trip_distance >= 0) & (df.trip_distance <= 40)]"
   ]
  },
  {
   "cell_type": "code",
   "execution_count": 23,
   "metadata": {},
   "outputs": [
    {
     "name": "stderr",
     "output_type": "stream",
     "text": [
      "/tmp/ipykernel_273/899120127.py:1: UserWarning: \n",
      "\n",
      "`distplot` is a deprecated function and will be removed in seaborn v0.14.0.\n",
      "\n",
      "Please adapt your code to use either `displot` (a figure-level function with\n",
      "similar flexibility) or `histplot` (an axes-level function for histograms).\n",
      "\n",
      "For a guide to updating your code to use the new functions, please see\n",
      "https://gist.github.com/mwaskom/de44147ed2974457ad6372750bbe5751\n",
      "\n",
      "  sns.distplot(df.trip_distance)\n"
     ]
    },
    {
     "data": {
      "text/plain": [
       "<Axes: xlabel='trip_distance', ylabel='Density'>"
      ]
     },
     "execution_count": 23,
     "metadata": {},
     "output_type": "execute_result"
    },
    {
     "data": {
      "image/png": "[encoded data removed]",
      "text/plain": [
       "<Figure size 640x480 with 1 Axes>"
      ]
     },
     "metadata": {},
     "output_type": "display_data"
    }
   ],
   "source": [
    "sns.distplot(df.trip_distance)"
   ]
  },
  {
   "cell_type": "code",
   "execution_count": 24,
   "metadata": {},
   "outputs": [
    {
     "name": "stderr",
     "output_type": "stream",
     "text": [
      "/tmp/ipykernel_273/3426635498.py:1: UserWarning: \n",
      "\n",
      "`distplot` is a deprecated function and will be removed in seaborn v0.14.0.\n",
      "\n",
      "Please adapt your code to use either `displot` (a figure-level function with\n",
      "similar flexibility) or `histplot` (an axes-level function for histograms).\n",
      "\n",
      "For a guide to updating your code to use the new functions, please see\n",
      "https://gist.github.com/mwaskom/de44147ed2974457ad6372750bbe5751\n",
      "\n",
      "  sns.distplot(df.duration)\n"
     ]
    },
    {
     "data": {
      "text/plain": [
       "<Axes: xlabel='duration', ylabel='Density'>"
      ]
     },
     "execution_count": 24,
     "metadata": {},
     "output_type": "execute_result"
    },
    {
     "data": {
      "image/png": "[encoded data removed]",
      "text/plain": [
       "<Figure size 640x480 with 1 Axes>"
      ]
     },
     "metadata": {},
     "output_type": "display_data"
    }
   ],
   "source": [
    "sns.distplot(df.duration)"
   ]
  },
  {
   "cell_type": "code",
   "execution_count": 25,
   "metadata": {},
   "outputs": [
    {
     "data": {
      "text/plain": [
       "VendorID                 73834\n",
       "lpep_pickup_datetime     73834\n",
       "lpep_dropoff_datetime    73834\n",
       "store_and_fwd_flag       38173\n",
       "RatecodeID               38173\n",
       "PULocationID             73834\n",
       "DOLocationID             73834\n",
       "passenger_count          38173\n",
       "trip_distance            73834\n",
       "fare_amount              73834\n",
       "extra                    73834\n",
       "mta_tax                  73834\n",
       "tip_amount               73834\n",
       "tolls_amount             73834\n",
       "ehail_fee                    0\n",
       "improvement_surcharge    73834\n",
       "total_amount             73834\n",
       "payment_type             38173\n",
       "trip_type                38173\n",
       "congestion_surcharge     38173\n",
       "duration                 73834\n",
       "dtype: int64"
      ]
     },
     "execution_count": 25,
     "metadata": {},
     "output_type": "execute_result"
    }
   ],
   "source": [
    "df.count()"
   ]
  },
  {
   "cell_type": "code",
   "execution_count": 26,
   "metadata": {},
   "outputs": [],
   "source": [
    "categorical = ['PULocationID', 'DOLocationID']\n",
    "df[categorical] = df[categorical].astype(str)"
   ]
  },
  {
   "cell_type": "code",
   "execution_count": 27,
   "metadata": {},
   "outputs": [
    {
     "data": {
      "text/plain": [
       "VendorID                          int64\n",
       "lpep_pickup_datetime     datetime64[us]\n",
       "lpep_dropoff_datetime    datetime64[us]\n",
       "store_and_fwd_flag               object\n",
       "RatecodeID                      float64\n",
       "PULocationID                     object\n",
       "DOLocationID                     object\n",
       "passenger_count                 float64\n",
       "trip_distance                   float64\n",
       "fare_amount                     float64\n",
       "extra                           float64\n",
       "mta_tax                         float64\n",
       "tip_amount                      float64\n",
       "tolls_amount                    float64\n",
       "ehail_fee                        object\n",
       "improvement_surcharge           float64\n",
       "total_amount                    float64\n",
       "payment_type                    float64\n",
       "trip_type                       float64\n",
       "congestion_surcharge            float64\n",
       "duration                        float64\n",
       "dtype: object"
      ]
     },
     "execution_count": 27,
     "metadata": {},
     "output_type": "execute_result"
    }
   ],
   "source": [
    "df.dtypes"
   ]
  },
  {
   "cell_type": "code",
   "execution_count": 28,
   "metadata": {},
   "outputs": [
    {
     "data": {
      "text/plain": [
       "73834"
      ]
     },
     "execution_count": 28,
     "metadata": {},
     "output_type": "execute_result"
    }
   ],
   "source": [
    "len(df)"
   ]
  },
  {
   "cell_type": "code",
   "execution_count": 29,
   "metadata": {},
   "outputs": [],
   "source": [
    "df_start = pd.read_parquet(\"./data/green/green_tripdata_2021-01.parquet\")"
   ]
  },
  {
   "cell_type": "code",
   "execution_count": 30,
   "metadata": {},
   "outputs": [
    {
     "data": {
      "text/plain": [
       "76518"
      ]
     },
     "execution_count": 30,
     "metadata": {},
     "output_type": "execute_result"
    }
   ],
   "source": [
    "len(df_start)"
   ]
  },
  {
   "cell_type": "code",
   "execution_count": 35,
   "metadata": {},
   "outputs": [
    {
     "data": {
      "text/plain": [
       "count     76518.000000\n",
       "mean         40.862552\n",
       "std        1924.408778\n",
       "min           0.000000\n",
       "50%           2.590000\n",
       "99.9%        46.112530\n",
       "max      244152.010000\n",
       "Name: trip_distance, dtype: float64"
      ]
     },
     "execution_count": 35,
     "metadata": {},
     "output_type": "execute_result"
    }
   ],
   "source": [
    "df_start.trip_distance.describe(percentiles=[0.999])"
   ]
  },
  {
   "cell_type": "code",
   "execution_count": 36,
   "metadata": {},
   "outputs": [
    {
     "data": {
      "text/plain": [
       "count    73834.000000\n",
       "mean         4.452901\n",
       "std          4.862029\n",
       "min          0.000000\n",
       "50%          2.600000\n",
       "99.9%       31.605030\n",
       "max         39.730000\n",
       "Name: trip_distance, dtype: float64"
      ]
     },
     "execution_count": 36,
     "metadata": {},
     "output_type": "execute_result"
    }
   ],
   "source": [
    "df.trip_distance.describe(percentiles=[0.999])"
   ]
  },
  {
   "cell_type": "code",
   "execution_count": 46,
   "metadata": {},
   "outputs": [],
   "source": [
    "df['duration'] = (df.lpep_dropoff_datetime - df.lpep_pickup_datetime).dt.total_seconds() / 60"
   ]
  },
  {
   "cell_type": "code",
   "execution_count": 48,
   "metadata": {},
   "outputs": [
    {
     "data": {
      "text/plain": [
       "count    73834.000000\n",
       "mean        16.847290\n",
       "std         11.561556\n",
       "min          1.000000\n",
       "25%          8.050000\n",
       "50%         13.983333\n",
       "75%         22.616667\n",
       "max         60.000000\n",
       "Name: duration, dtype: float64"
      ]
     },
     "execution_count": 48,
     "metadata": {},
     "output_type": "execute_result"
    }
   ],
   "source": [
    "df.duration.describe()"
   ]
  },
  {
   "cell_type": "code",
   "execution_count": 53,
   "metadata": {},
   "outputs": [],
   "source": [
    "categorical = ['PULocationID', 'DOLocationID']\n",
    "numerical = ['trip_distance']\n",
    "df[categorical] = df[categorical].astype(str)"
   ]
  },
  {
   "cell_type": "code",
   "execution_count": 54,
   "metadata": {},
   "outputs": [
    {
     "data": {
      "text/plain": [
       "PULocationID    object\n",
       "DOLocationID    object\n",
       "dtype: object"
      ]
     },
     "execution_count": 54,
     "metadata": {},
     "output_type": "execute_result"
    }
   ],
   "source": [
    "df[categorical].dtypes"
   ]
  },
  {
   "cell_type": "code",
   "execution_count": 55,
   "metadata": {},
   "outputs": [],
   "source": [
    "dv = DictVectorizer()"
   ]
  },
  {
   "cell_type": "code",
   "execution_count": 56,
   "metadata": {},
   "outputs": [],
   "source": [
    "train_dicts = df[categorical + numerical].to_dict(orient='records')"
   ]
  },
  {
   "cell_type": "code",
   "execution_count": 57,
   "metadata": {},
   "outputs": [],
   "source": [
    "X_train = dv.fit_transform(train_dicts)"
   ]
  },
  {
   "cell_type": "code",
   "execution_count": 58,
   "metadata": {},
   "outputs": [
    {
     "data": {
      "text/plain": [
       "<73834x507 sparse matrix of type '<class 'numpy.float64'>'\n",
       "\twith 221502 stored elements in Compressed Sparse Row format>"
      ]
     },
     "execution_count": 58,
     "metadata": {},
     "output_type": "execute_result"
    }
   ],
   "source": [
    "X_train"
   ]
  },
  {
   "cell_type": "code",
   "execution_count": 59,
   "metadata": {
    "collapsed": true,
    "jupyter": {
     "outputs_hidden": true
    }
   },
   "outputs": [
    {
     "data": {
      "text/plain": [
       "['DOLocationID=1',\n",
       " 'DOLocationID=10',\n",
       " 'DOLocationID=100',\n",
       " 'DOLocationID=101',\n",
       " 'DOLocationID=102',\n",
       " 'DOLocationID=106',\n",
       " 'DOLocationID=107',\n",
       " 'DOLocationID=108',\n",
       " 'DOLocationID=109',\n",
       " 'DOLocationID=11',\n",
       " 'DOLocationID=111',\n",
       " 'DOLocationID=112',\n",
       " 'DOLocationID=113',\n",
       " 'DOLocationID=114',\n",
       " 'DOLocationID=115',\n",
       " 'DOLocationID=116',\n",
       " 'DOLocationID=117',\n",
       " 'DOLocationID=118',\n",
       " 'DOLocationID=119',\n",
       " 'DOLocationID=12',\n",
       " 'DOLocationID=120',\n",
       " 'DOLocationID=121',\n",
       " 'DOLocationID=122',\n",
       " 'DOLocationID=123',\n",
       " 'DOLocationID=124',\n",
       " 'DOLocationID=125',\n",
       " 'DOLocationID=126',\n",
       " 'DOLocationID=127',\n",
       " 'DOLocationID=128',\n",
       " 'DOLocationID=129',\n",
       " 'DOLocationID=13',\n",
       " 'DOLocationID=130',\n",
       " 'DOLocationID=131',\n",
       " 'DOLocationID=132',\n",
       " 'DOLocationID=133',\n",
       " 'DOLocationID=134',\n",
       " 'DOLocationID=135',\n",
       " 'DOLocationID=136',\n",
       " 'DOLocationID=137',\n",
       " 'DOLocationID=138',\n",
       " 'DOLocationID=139',\n",
       " 'DOLocationID=14',\n",
       " 'DOLocationID=140',\n",
       " 'DOLocationID=141',\n",
       " 'DOLocationID=142',\n",
       " 'DOLocationID=143',\n",
       " 'DOLocationID=144',\n",
       " 'DOLocationID=145',\n",
       " 'DOLocationID=146',\n",
       " 'DOLocationID=147',\n",
       " 'DOLocationID=148',\n",
       " 'DOLocationID=149',\n",
       " 'DOLocationID=15',\n",
       " 'DOLocationID=150',\n",
       " 'DOLocationID=151',\n",
       " 'DOLocationID=152',\n",
       " 'DOLocationID=153',\n",
       " 'DOLocationID=154',\n",
       " 'DOLocationID=155',\n",
       " 'DOLocationID=156',\n",
       " 'DOLocationID=157',\n",
       " 'DOLocationID=158',\n",
       " 'DOLocationID=159',\n",
       " 'DOLocationID=16',\n",
       " 'DOLocationID=160',\n",
       " 'DOLocationID=161',\n",
       " 'DOLocationID=162',\n",
       " 'DOLocationID=163',\n",
       " 'DOLocationID=164',\n",
       " 'DOLocationID=165',\n",
       " 'DOLocationID=166',\n",
       " 'DOLocationID=167',\n",
       " 'DOLocationID=168',\n",
       " 'DOLocationID=169',\n",
       " 'DOLocationID=17',\n",
       " 'DOLocationID=170',\n",
       " 'DOLocationID=171',\n",
       " 'DOLocationID=172',\n",
       " 'DOLocationID=173',\n",
       " 'DOLocationID=174',\n",
       " 'DOLocationID=175',\n",
       " 'DOLocationID=177',\n",
       " 'DOLocationID=178',\n",
       " 'DOLocationID=179',\n",
       " 'DOLocationID=18',\n",
       " 'DOLocationID=180',\n",
       " 'DOLocationID=181',\n",
       " 'DOLocationID=182',\n",
       " 'DOLocationID=183',\n",
       " 'DOLocationID=184',\n",
       " 'DOLocationID=185',\n",
       " 'DOLocationID=186',\n",
       " 'DOLocationID=187',\n",
       " 'DOLocationID=188',\n",
       " 'DOLocationID=189',\n",
       " 'DOLocationID=19',\n",
       " 'DOLocationID=190',\n",
       " 'DOLocationID=191',\n",
       " 'DOLocationID=192',\n",
       " 'DOLocationID=193',\n",
       " 'DOLocationID=194',\n",
       " 'DOLocationID=195',\n",
       " 'DOLocationID=196',\n",
       " 'DOLocationID=197',\n",
       " 'DOLocationID=198',\n",
       " 'DOLocationID=2',\n",
       " 'DOLocationID=20',\n",
       " 'DOLocationID=200',\n",
       " 'DOLocationID=201',\n",
       " 'DOLocationID=202',\n",
       " 'DOLocationID=203',\n",
       " 'DOLocationID=205',\n",
       " 'DOLocationID=206',\n",
       " 'DOLocationID=207',\n",
       " 'DOLocationID=208',\n",
       " 'DOLocationID=209',\n",
       " 'DOLocationID=21',\n",
       " 'DOLocationID=210',\n",
       " 'DOLocationID=211',\n",
       " 'DOLocationID=212',\n",
       " 'DOLocationID=213',\n",
       " 'DOLocationID=214',\n",
       " 'DOLocationID=215',\n",
       " 'DOLocationID=216',\n",
       " 'DOLocationID=217',\n",
       " 'DOLocationID=218',\n",
       " 'DOLocationID=219',\n",
       " 'DOLocationID=22',\n",
       " 'DOLocationID=220',\n",
       " 'DOLocationID=221',\n",
       " 'DOLocationID=222',\n",
       " 'DOLocationID=223',\n",
       " 'DOLocationID=224',\n",
       " 'DOLocationID=225',\n",
       " 'DOLocationID=226',\n",
       " 'DOLocationID=227',\n",
       " 'DOLocationID=228',\n",
       " 'DOLocationID=229',\n",
       " 'DOLocationID=23',\n",
       " 'DOLocationID=230',\n",
       " 'DOLocationID=231',\n",
       " 'DOLocationID=232',\n",
       " 'DOLocationID=233',\n",
       " 'DOLocationID=234',\n",
       " 'DOLocationID=235',\n",
       " 'DOLocationID=236',\n",
       " 'DOLocationID=237',\n",
       " 'DOLocationID=238',\n",
       " 'DOLocationID=239',\n",
       " 'DOLocationID=24',\n",
       " 'DOLocationID=240',\n",
       " 'DOLocationID=241',\n",
       " 'DOLocationID=242',\n",
       " 'DOLocationID=243',\n",
       " 'DOLocationID=244',\n",
       " 'DOLocationID=245',\n",
       " 'DOLocationID=246',\n",
       " 'DOLocationID=247',\n",
       " 'DOLocationID=248',\n",
       " 'DOLocationID=249',\n",
       " 'DOLocationID=25',\n",
       " 'DOLocationID=250',\n",
       " 'DOLocationID=251',\n",
       " 'DOLocationID=252',\n",
       " 'DOLocationID=253',\n",
       " 'DOLocationID=254',\n",
       " 'DOLocationID=255',\n",
       " 'DOLocationID=256',\n",
       " 'DOLocationID=257',\n",
       " 'DOLocationID=258',\n",
       " 'DOLocationID=259',\n",
       " 'DOLocationID=26',\n",
       " 'DOLocationID=260',\n",
       " 'DOLocationID=261',\n",
       " 'DOLocationID=262',\n",
       " 'DOLocationID=263',\n",
       " 'DOLocationID=264',\n",
       " 'DOLocationID=265',\n",
       " 'DOLocationID=27',\n",
       " 'DOLocationID=28',\n",
       " 'DOLocationID=29',\n",
       " 'DOLocationID=3',\n",
       " 'DOLocationID=30',\n",
       " 'DOLocationID=31',\n",
       " 'DOLocationID=32',\n",
       " 'DOLocationID=33',\n",
       " 'DOLocationID=34',\n",
       " 'DOLocationID=35',\n",
       " 'DOLocationID=36',\n",
       " 'DOLocationID=37',\n",
       " 'DOLocationID=38',\n",
       " 'DOLocationID=39',\n",
       " 'DOLocationID=4',\n",
       " 'DOLocationID=40',\n",
       " 'DOLocationID=41',\n",
       " 'DOLocationID=42',\n",
       " 'DOLocationID=43',\n",
       " 'DOLocationID=44',\n",
       " 'DOLocationID=45',\n",
       " 'DOLocationID=46',\n",
       " 'DOLocationID=47',\n",
       " 'DOLocationID=48',\n",
       " 'DOLocationID=49',\n",
       " 'DOLocationID=50',\n",
       " 'DOLocationID=51',\n",
       " 'DOLocationID=52',\n",
       " 'DOLocationID=53',\n",
       " 'DOLocationID=54',\n",
       " 'DOLocationID=55',\n",
       " 'DOLocationID=56',\n",
       " 'DOLocationID=57',\n",
       " 'DOLocationID=58',\n",
       " 'DOLocationID=59',\n",
       " 'DOLocationID=6',\n",
       " 'DOLocationID=60',\n",
       " 'DOLocationID=61',\n",
       " 'DOLocationID=62',\n",
       " 'DOLocationID=63',\n",
       " 'DOLocationID=64',\n",
       " 'DOLocationID=65',\n",
       " 'DOLocationID=66',\n",
       " 'DOLocationID=67',\n",
       " 'DOLocationID=68',\n",
       " 'DOLocationID=69',\n",
       " 'DOLocationID=7',\n",
       " 'DOLocationID=70',\n",
       " 'DOLocationID=71',\n",
       " 'DOLocationID=72',\n",
       " 'DOLocationID=73',\n",
       " 'DOLocationID=74',\n",
       " 'DOLocationID=75',\n",
       " 'DOLocationID=76',\n",
       " 'DOLocationID=77',\n",
       " 'DOLocationID=78',\n",
       " 'DOLocationID=79',\n",
       " 'DOLocationID=8',\n",
       " 'DOLocationID=80',\n",
       " 'DOLocationID=81',\n",
       " 'DOLocationID=82',\n",
       " 'DOLocationID=83',\n",
       " 'DOLocationID=84',\n",
       " 'DOLocationID=85',\n",
       " 'DOLocationID=86',\n",
       " 'DOLocationID=87',\n",
       " 'DOLocationID=88',\n",
       " 'DOLocationID=89',\n",
       " 'DOLocationID=9',\n",
       " 'DOLocationID=90',\n",
       " 'DOLocationID=91',\n",
       " 'DOLocationID=92',\n",
       " 'DOLocationID=93',\n",
       " 'DOLocationID=94',\n",
       " 'DOLocationID=95',\n",
       " 'DOLocationID=96',\n",
       " 'DOLocationID=97',\n",
       " 'DOLocationID=98',\n",
       " 'PULocationID=10',\n",
       " 'PULocationID=100',\n",
       " 'PULocationID=101',\n",
       " 'PULocationID=102',\n",
       " 'PULocationID=106',\n",
       " 'PULocationID=107',\n",
       " 'PULocationID=108',\n",
       " 'PULocationID=11',\n",
       " 'PULocationID=112',\n",
       " 'PULocationID=113',\n",
       " 'PULocationID=114',\n",
       " 'PULocationID=115',\n",
       " 'PULocationID=116',\n",
       " 'PULocationID=117',\n",
       " 'PULocationID=118',\n",
       " 'PULocationID=119',\n",
       " 'PULocationID=12',\n",
       " 'PULocationID=120',\n",
       " 'PULocationID=121',\n",
       " 'PULocationID=122',\n",
       " 'PULocationID=123',\n",
       " 'PULocationID=124',\n",
       " 'PULocationID=125',\n",
       " 'PULocationID=126',\n",
       " 'PULocationID=127',\n",
       " 'PULocationID=128',\n",
       " 'PULocationID=129',\n",
       " 'PULocationID=13',\n",
       " 'PULocationID=130',\n",
       " 'PULocationID=131',\n",
       " 'PULocationID=132',\n",
       " 'PULocationID=133',\n",
       " 'PULocationID=134',\n",
       " 'PULocationID=135',\n",
       " 'PULocationID=136',\n",
       " 'PULocationID=137',\n",
       " 'PULocationID=138',\n",
       " 'PULocationID=139',\n",
       " 'PULocationID=14',\n",
       " 'PULocationID=140',\n",
       " 'PULocationID=141',\n",
       " 'PULocationID=142',\n",
       " 'PULocationID=143',\n",
       " 'PULocationID=144',\n",
       " 'PULocationID=145',\n",
       " 'PULocationID=146',\n",
       " 'PULocationID=147',\n",
       " 'PULocationID=148',\n",
       " 'PULocationID=149',\n",
       " 'PULocationID=15',\n",
       " 'PULocationID=150',\n",
       " 'PULocationID=151',\n",
       " 'PULocationID=152',\n",
       " 'PULocationID=153',\n",
       " 'PULocationID=154',\n",
       " 'PULocationID=155',\n",
       " 'PULocationID=156',\n",
       " 'PULocationID=157',\n",
       " 'PULocationID=158',\n",
       " 'PULocationID=159',\n",
       " 'PULocationID=16',\n",
       " 'PULocationID=160',\n",
       " 'PULocationID=161',\n",
       " 'PULocationID=162',\n",
       " 'PULocationID=163',\n",
       " 'PULocationID=164',\n",
       " 'PULocationID=165',\n",
       " 'PULocationID=166',\n",
       " 'PULocationID=167',\n",
       " 'PULocationID=168',\n",
       " 'PULocationID=169',\n",
       " 'PULocationID=17',\n",
       " 'PULocationID=170',\n",
       " 'PULocationID=171',\n",
       " 'PULocationID=172',\n",
       " 'PULocationID=173',\n",
       " 'PULocationID=174',\n",
       " 'PULocationID=175',\n",
       " 'PULocationID=176',\n",
       " 'PULocationID=177',\n",
       " 'PULocationID=178',\n",
       " 'PULocationID=179',\n",
       " 'PULocationID=18',\n",
       " 'PULocationID=180',\n",
       " 'PULocationID=181',\n",
       " 'PULocationID=182',\n",
       " 'PULocationID=183',\n",
       " 'PULocationID=184',\n",
       " 'PULocationID=185',\n",
       " 'PULocationID=186',\n",
       " 'PULocationID=187',\n",
       " 'PULocationID=188',\n",
       " 'PULocationID=189',\n",
       " 'PULocationID=19',\n",
       " 'PULocationID=190',\n",
       " 'PULocationID=191',\n",
       " 'PULocationID=192',\n",
       " 'PULocationID=193',\n",
       " 'PULocationID=194',\n",
       " 'PULocationID=195',\n",
       " 'PULocationID=196',\n",
       " 'PULocationID=197',\n",
       " 'PULocationID=198',\n",
       " 'PULocationID=20',\n",
       " 'PULocationID=200',\n",
       " 'PULocationID=201',\n",
       " 'PULocationID=202',\n",
       " 'PULocationID=203',\n",
       " 'PULocationID=205',\n",
       " 'PULocationID=206',\n",
       " 'PULocationID=207',\n",
       " 'PULocationID=208',\n",
       " 'PULocationID=209',\n",
       " 'PULocationID=21',\n",
       " 'PULocationID=210',\n",
       " 'PULocationID=211',\n",
       " 'PULocationID=212',\n",
       " 'PULocationID=213',\n",
       " 'PULocationID=214',\n",
       " 'PULocationID=215',\n",
       " 'PULocationID=216',\n",
       " 'PULocationID=217',\n",
       " 'PULocationID=218',\n",
       " 'PULocationID=219',\n",
       " 'PULocationID=22',\n",
       " 'PULocationID=220',\n",
       " 'PULocationID=221',\n",
       " 'PULocationID=222',\n",
       " 'PULocationID=223',\n",
       " 'PULocationID=224',\n",
       " 'PULocationID=225',\n",
       " 'PULocationID=226',\n",
       " 'PULocationID=227',\n",
       " 'PULocationID=228',\n",
       " 'PULocationID=229',\n",
       " 'PULocationID=23',\n",
       " 'PULocationID=230',\n",
       " 'PULocationID=231',\n",
       " 'PULocationID=232',\n",
       " 'PULocationID=233',\n",
       " 'PULocationID=234',\n",
       " 'PULocationID=235',\n",
       " 'PULocationID=236',\n",
       " 'PULocationID=237',\n",
       " 'PULocationID=238',\n",
       " 'PULocationID=239',\n",
       " 'PULocationID=24',\n",
       " 'PULocationID=240',\n",
       " 'PULocationID=241',\n",
       " 'PULocationID=242',\n",
       " 'PULocationID=243',\n",
       " 'PULocationID=244',\n",
       " 'PULocationID=245',\n",
       " 'PULocationID=246',\n",
       " 'PULocationID=247',\n",
       " 'PULocationID=248',\n",
       " 'PULocationID=249',\n",
       " 'PULocationID=25',\n",
       " 'PULocationID=250',\n",
       " 'PULocationID=252',\n",
       " 'PULocationID=253',\n",
       " 'PULocationID=254',\n",
       " 'PULocationID=255',\n",
       " 'PULocationID=256',\n",
       " 'PULocationID=257',\n",
       " 'PULocationID=258',\n",
       " 'PULocationID=259',\n",
       " 'PULocationID=26',\n",
       " 'PULocationID=260',\n",
       " 'PULocationID=261',\n",
       " 'PULocationID=262',\n",
       " 'PULocationID=263',\n",
       " 'PULocationID=264',\n",
       " 'PULocationID=265',\n",
       " 'PULocationID=27',\n",
       " 'PULocationID=28',\n",
       " 'PULocationID=29',\n",
       " 'PULocationID=3',\n",
       " 'PULocationID=31',\n",
       " 'PULocationID=32',\n",
       " 'PULocationID=33',\n",
       " 'PULocationID=34',\n",
       " 'PULocationID=35',\n",
       " 'PULocationID=36',\n",
       " 'PULocationID=37',\n",
       " 'PULocationID=38',\n",
       " 'PULocationID=39',\n",
       " 'PULocationID=4',\n",
       " 'PULocationID=40',\n",
       " 'PULocationID=41',\n",
       " 'PULocationID=42',\n",
       " 'PULocationID=43',\n",
       " 'PULocationID=44',\n",
       " 'PULocationID=45',\n",
       " 'PULocationID=46',\n",
       " 'PULocationID=47',\n",
       " 'PULocationID=48',\n",
       " 'PULocationID=49',\n",
       " 'PULocationID=50',\n",
       " 'PULocationID=51',\n",
       " 'PULocationID=52',\n",
       " 'PULocationID=53',\n",
       " 'PULocationID=54',\n",
       " 'PULocationID=55',\n",
       " 'PULocationID=56',\n",
       " 'PULocationID=57',\n",
       " 'PULocationID=58',\n",
       " 'PULocationID=59',\n",
       " 'PULocationID=60',\n",
       " 'PULocationID=61',\n",
       " 'PULocationID=62',\n",
       " 'PULocationID=63',\n",
       " 'PULocationID=64',\n",
       " 'PULocationID=65',\n",
       " 'PULocationID=66',\n",
       " 'PULocationID=67',\n",
       " 'PULocationID=68',\n",
       " 'PULocationID=69',\n",
       " 'PULocationID=7',\n",
       " 'PULocationID=70',\n",
       " 'PULocationID=71',\n",
       " 'PULocationID=72',\n",
       " 'PULocationID=73',\n",
       " 'PULocationID=74',\n",
       " 'PULocationID=75',\n",
       " 'PULocationID=76',\n",
       " 'PULocationID=77',\n",
       " 'PULocationID=78',\n",
       " 'PULocationID=79',\n",
       " 'PULocationID=8',\n",
       " 'PULocationID=80',\n",
       " 'PULocationID=81',\n",
       " 'PULocationID=82',\n",
       " 'PULocationID=83',\n",
       " 'PULocationID=84',\n",
       " 'PULocationID=85',\n",
       " 'PULocationID=86',\n",
       " 'PULocationID=87',\n",
       " 'PULocationID=88',\n",
       " 'PULocationID=89',\n",
       " 'PULocationID=9',\n",
       " 'PULocationID=90',\n",
       " 'PULocationID=91',\n",
       " 'PULocationID=92',\n",
       " 'PULocationID=93',\n",
       " 'PULocationID=94',\n",
       " 'PULocationID=95',\n",
       " 'PULocationID=96',\n",
       " 'PULocationID=97',\n",
       " 'PULocationID=98',\n",
       " 'trip_distance']"
      ]
     },
     "execution_count": 59,
     "metadata": {},
     "output_type": "execute_result"
    }
   ],
   "source": [
    "dv.feature_names_"
   ]
  },
  {
   "cell_type": "code",
   "execution_count": 60,
   "metadata": {},
   "outputs": [],
   "source": [
    "target = 'duration'\n",
    "y_train = df[target].values"
   ]
  },
  {
   "cell_type": "code",
   "execution_count": 61,
   "metadata": {},
   "outputs": [
    {
     "data": {
      "text/plain": [
       "array([ 3.93333333,  8.75      ,  5.96666667, ..., 11.        ,\n",
       "       27.        , 10.        ])"
      ]
     },
     "execution_count": 61,
     "metadata": {},
     "output_type": "execute_result"
    }
   ],
   "source": [
    "y_train"
   ]
  },
  {
   "cell_type": "code",
   "execution_count": 65,
   "metadata": {},
   "outputs": [
    {
     "data": {
      "text/html": [
       "<style>#sk-container-id-1 {color: black;}#sk-container-id-1 pre{padding: 0;}#sk-container-id-1 div.sk-toggleable {background-color: white;}#sk-container-id-1 label.sk-toggleable__label {cursor: pointer;display: block;width: 100%;margin-bottom: 0;padding: 0.3em;box-sizing: border-box;text-align: center;}#sk-container-id-1 label.sk-toggleable__label-arrow:before {content: \"▸\";float: left;margin-right: 0.25em;color: #696969;}#sk-container-id-1 label.sk-toggleable__label-arrow:hover:before {color: black;}#sk-container-id-1 div.sk-estimator:hover label.sk-toggleable__label-arrow:before {color: black;}#sk-container-id-1 div.sk-toggleable__content {max-height: 0;max-width: 0;overflow: hidden;text-align: left;background-color: #f0f8ff;}#sk-container-id-1 div.sk-toggleable__content pre {margin: 0.2em;color: black;border-radius: 0.25em;background-color: #f0f8ff;}#sk-container-id-1 input.sk-toggleable__control:checked~div.sk-toggleable__content {max-height: 200px;max-width: 100%;overflow: auto;}#sk-container-id-1 input.sk-toggleable__control:checked~label.sk-toggleable__label-arrow:before {content: \"▾\";}#sk-container-id-1 div.sk-estimator input.sk-toggleable__control:checked~label.sk-toggleable__label {background-color: #d4ebff;}#sk-container-id-1 div.sk-label input.sk-toggleable__control:checked~label.sk-toggleable__label {background-color: #d4ebff;}#sk-container-id-1 input.sk-hidden--visually {border: 0;clip: rect(1px 1px 1px 1px);clip: rect(1px, 1px, 1px, 1px);height: 1px;margin: -1px;overflow: hidden;padding: 0;position: absolute;width: 1px;}#sk-container-id-1 div.sk-estimator {font-family: monospace;background-color: #f0f8ff;border: 1px dotted black;border-radius: 0.25em;box-sizing: border-box;margin-bottom: 0.5em;}#sk-container-id-1 div.sk-estimator:hover {background-color: #d4ebff;}#sk-container-id-1 div.sk-parallel-item::after {content: \"\";width: 100%;border-bottom: 1px solid gray;flex-grow: 1;}#sk-container-id-1 div.sk-label:hover label.sk-toggleable__label {background-color: #d4ebff;}#sk-container-id-1 div.sk-serial::before {content: \"\";position: absolute;border-left: 1px solid gray;box-sizing: border-box;top: 0;bottom: 0;left: 50%;z-index: 0;}#sk-container-id-1 div.sk-serial {display: flex;flex-direction: column;align-items: center;background-color: white;padding-right: 0.2em;padding-left: 0.2em;position: relative;}#sk-container-id-1 div.sk-item {position: relative;z-index: 1;}#sk-container-id-1 div.sk-parallel {display: flex;align-items: stretch;justify-content: center;background-color: white;position: relative;}#sk-container-id-1 div.sk-item::before, #sk-container-id-1 div.sk-parallel-item::before {content: \"\";position: absolute;border-left: 1px solid gray;box-sizing: border-box;top: 0;bottom: 0;left: 50%;z-index: -1;}#sk-container-id-1 div.sk-parallel-item {display: flex;flex-direction: column;z-index: 1;position: relative;background-color: white;}#sk-container-id-1 div.sk-parallel-item:first-child::after {align-self: flex-end;width: 50%;}#sk-container-id-1 div.sk-parallel-item:last-child::after {align-self: flex-start;width: 50%;}#sk-container-id-1 div.sk-parallel-item:only-child::after {width: 0;}#sk-container-id-1 div.sk-dashed-wrapped {border: 1px dashed gray;margin: 0 0.4em 0.5em 0.4em;box-sizing: border-box;padding-bottom: 0.4em;background-color: white;}#sk-container-id-1 div.sk-label label {font-family: monospace;font-weight: bold;display: inline-block;line-height: 1.2em;}#sk-container-id-1 div.sk-label-container {text-align: center;}#sk-container-id-1 div.sk-container {/* jupyter's `normalize.less` sets `[hidden] { display: none; }` but bootstrap.min.css set `[hidden] { display: none !important; }` so we also need the `!important` here to be able to override the default hidden behavior on the sphinx rendered scikit-learn.org. See: https://github.com/scikit-learn/scikit-learn/issues/21755 */display: inline-block !important;position: relative;}#sk-container-id-1 div.sk-text-repr-fallback {display: none;}</style><div id=\"sk-container-id-1\" class=\"sk-top-container\"><div class=\"sk-text-repr-fallback\"><pre>LinearRegression()</pre><b>In a Jupyter environment, please rerun this cell to show the HTML representation or trust the notebook. <br />On GitHub, the HTML representation is unable to render, please try loading this page with nbviewer.org.</b></div><div class=\"sk-container\" hidden><div class=\"sk-item\"><div class=\"sk-estimator sk-toggleable\"><input class=\"sk-toggleable__control sk-hidden--visually\" id=\"sk-estimator-id-1\" type=\"checkbox\" checked><label for=\"sk-estimator-id-1\" class=\"sk-toggleable__label sk-toggleable__label-arrow\">LinearRegression</label><div class=\"sk-toggleable__content\"><pre>LinearRegression()</pre></div></div></div></div></div>"
      ],
      "text/plain": [
       "LinearRegression()"
      ]
     },
     "execution_count": 65,
     "metadata": {},
     "output_type": "execute_result"
    }
   ],
   "source": [
    "lr = LinearRegression()\n",
    "lr.fit(X_train, y_train)"
   ]
  },
  {
   "cell_type": "code",
   "execution_count": 66,
   "metadata": {},
   "outputs": [],
   "source": [
    "y_pred = lr.predict(X_train)"
   ]
  },
  {
   "cell_type": "code",
   "execution_count": 67,
   "metadata": {},
   "outputs": [
    {
     "name": "stderr",
     "output_type": "stream",
     "text": [
      "/tmp/ipykernel_273/1223447066.py:1: UserWarning: \n",
      "\n",
      "`distplot` is a deprecated function and will be removed in seaborn v0.14.0.\n",
      "\n",
      "Please adapt your code to use either `displot` (a figure-level function with\n",
      "similar flexibility) or `histplot` (an axes-level function for histograms).\n",
      "\n",
      "For a guide to updating your code to use the new functions, please see\n",
      "https://gist.github.com/mwaskom/de44147ed2974457ad6372750bbe5751\n",
      "\n",
      "  sns.distplot(y_pred, label ='prediction')\n",
      "/tmp/ipykernel_273/1223447066.py:2: UserWarning: \n",
      "\n",
      "`distplot` is a deprecated function and will be removed in seaborn v0.14.0.\n",
      "\n",
      "Please adapt your code to use either `displot` (a figure-level function with\n",
      "similar flexibility) or `histplot` (an axes-level function for histograms).\n",
      "\n",
      "For a guide to updating your code to use the new functions, please see\n",
      "https://gist.github.com/mwaskom/de44147ed2974457ad6372750bbe5751\n",
      "\n",
      "  sns.distplot(y_train, label ='actual')\n"
     ]
    },
    {
     "data": {
      "text/plain": [
       "<function matplotlib.pyplot.legend(*args, **kwargs) -> 'Legend'>"
      ]
     },
     "execution_count": 67,
     "metadata": {},
     "output_type": "execute_result"
    },
    {
     "data": {
      "image/png": "[encoded data removed]",
      "text/plain": [
       "<Figure size 640x480 with 1 Axes>"
      ]
     },
     "metadata": {},
     "output_type": "display_data"
    }
   ],
   "source": [
    "sns.distplot(y_pred, label ='prediction')\n",
    "sns.distplot(y_train, label ='actual')\n",
    "plt.legend"
   ]
  },
  {
   "cell_type": "code",
   "execution_count": 69,
   "metadata": {},
   "outputs": [
    {
     "data": {
      "text/plain": [
       "6.3665441129018046"
      ]
     },
     "execution_count": 69,
     "metadata": {},
     "output_type": "execute_result"
    }
   ],
   "source": [
    "mean_squared_error(y_train, y_pred, squared=False)d"
   ]
  },
  {
   "cell_type": "code",
   "execution_count": 83,
   "metadata": {},
   "outputs": [
    {
     "data": {
      "text/plain": [
       "1.0"
      ]
     },
     "execution_count": 83,
     "metadata": {},
     "output_type": "execute_result"
    }
   ],
   "source": [
    "df.duration.quantile(0.9999)"
   ]
  },
  {
   "cell_type": "code",
   "execution_count": 84,
   "metadata": {},
   "outputs": [
    {
     "data": {
      "text/plain": [
       "0.0"
      ]
     },
     "execution_count": 84,
     "metadata": {},
     "output_type": "execute_result"
    }
   ],
   "source": [
    "df.trip_distance.quantile(0.0)"
   ]
  },
  {
   "cell_type": "code",
   "execution_count": 183,
   "metadata": {},
   "outputs": [],
   "source": [
    "def read_dataframe(filename):\n",
    "    if filename.endswith('.csv'):\n",
    "        df = pd.read_csv(filename)\n",
    "\n",
    "        df.lpep_dropoff_datetime = pd.to_datetime(df.lpep_dropoff_datetime)\n",
    "        df.lpep_pickup_datetime = pd.to_datetime(df.lpep_pickup_datetime)\n",
    "    elif filename.endswith('.parquet'):\n",
    "        df = pd.read_parquet(filename)\n",
    "\n",
    "    df['duration'] = df.lpep_dropoff_datetime - df.lpep_pickup_datetime\n",
    "    df.duration = df.duration.dt.total_seconds() / 60\n",
    "\n",
    "    df = df[(df.duration >= df.duration.quantile(0)) & (df.duration <= df.duration.quantile(0.99))]\n",
    "    print(df.duration.quantile(0.99))\n",
    "    df = df[(df.trip_distance >= df.trip_distance.quantile(0)) & (df.trip_distance <= df.trip_distance.quantile(0.99))]\n",
    "    print(df.trip_distance.quantile(0.99))\n",
    "\n",
    "    categorical = ['PULocationID', 'DOLocationID']\n",
    "    df[categorical] = df[categorical].astype(str)\n",
    "    \n",
    "    return df"
   ]
  },
  {
   "cell_type": "code",
   "execution_count": 184,
   "metadata": {},
   "outputs": [
    {
     "name": "stdout",
     "output_type": "stream",
     "text": [
      "56.0\n",
      "20.12\n",
      "63.0\n",
      "19.971500000000013\n"
     ]
    }
   ],
   "source": [
    "df_train = read_dataframe(\"./data/green/green_tripdata_2021-01.parquet\")\n",
    "df_val = read_dataframe(\"./data/green/green_tripdata_2021-02.parquet\")"
   ]
  },
  {
   "cell_type": "code",
   "execution_count": 167,
   "metadata": {},
   "outputs": [
    {
     "data": {
      "text/plain": [
       "(74994, 63286)"
      ]
     },
     "execution_count": 167,
     "metadata": {},
     "output_type": "execute_result"
    }
   ],
   "source": [
    "len(df_train), len(df_val)"
   ]
  },
  {
   "cell_type": "code",
   "execution_count": null,
   "metadata": {},
   "outputs": [],
   "source": []
  },
  {
   "cell_type": "code",
   "execution_count": 168,
   "metadata": {},
   "outputs": [],
   "source": [
    "categorical = ['PULocationID', 'DOLocationID']\n",
    "numerical = ['trip_distance']\n",
    "df[categorical] = df[categorical].astype(str)\n",
    "\n",
    "dv = DictVectorizer()\n",
    "\n",
    "train_dicts = df_train[categorical + numerical].to_dict(orient='records')\n",
    "X_train = dv.fit_transform(train_dicts)\n",
    "\n",
    "val_dicts = df_val[categorical + numerical].to_dict(orient='records')\n",
    "X_val = dv.transform(val_dicts)"
   ]
  },
  {
   "cell_type": "code",
   "execution_count": 169,
   "metadata": {},
   "outputs": [],
   "source": [
    "target = 'duration'\n",
    "y_train = df_train[target].values\n",
    "y_val = df_val[target].values"
   ]
  },
  {
   "cell_type": "code",
   "execution_count": 186,
   "metadata": {},
   "outputs": [
    {
     "data": {
      "text/plain": [
       "7.76345511833844"
      ]
     },
     "execution_count": 186,
     "metadata": {},
     "output_type": "execute_result"
    }
   ],
   "source": [
    "lr = LinearRegression()\n",
    "lr.fit(X_train, y_train)\n",
    "\n",
    "y_pred = lr.predict(X_val)\n",
    "\n",
    "mean_squared_error(y_val, y_pred, squared=False)"
   ]
  },
  {
   "cell_type": "code",
   "execution_count": 187,
   "metadata": {},
   "outputs": [],
   "source": [
    "with open(\"models/lin_reg.bin\", 'wb') as f_out:\n",
    "    pickle.dump((dv, lr), f_out)"
   ]
  },
  {
   "cell_type": "code",
   "execution_count": 172,
   "metadata": {},
   "outputs": [],
   "source": [
    "from sklearn.linear_model import Lasso\n",
    "from sklearn.linear_model import Ridge"
   ]
  },
  {
   "cell_type": "code",
   "execution_count": 176,
   "metadata": {},
   "outputs": [
    {
     "data": {
      "text/plain": [
       "7.780887747056652"
      ]
     },
     "execution_count": 176,
     "metadata": {},
     "output_type": "execute_result"
    }
   ],
   "source": [
    "lr = Lasso(alpha=0.001)\n",
    "lr.fit(X_train, y_train)\n",
    "\n",
    "y_pred = lr.predict(X_val)\n",
    "\n",
    "mean_squared_error(y_val, y_pred, squared=False)"
   ]
  },
  {
   "cell_type": "code",
   "execution_count": 180,
   "metadata": {},
   "outputs": [
    {
     "data": {
      "text/plain": [
       "7.760659051432994"
      ]
     },
     "execution_count": 180,
     "metadata": {},
     "output_type": "execute_result"
    }
   ],
   "source": [
    "lr = Ridge()\n",
    "lr.fit(X_train, y_train)\n",
    "\n",
    "y_pred = lr.predict(X_val)\n",
    "\n",
    "mean_squared_error(y_val, y_pred, squared=False)"
   ]
  },
  {
   "cell_type": "code",
   "execution_count": null,
   "metadata": {},
   "outputs": [],
   "source": []
  }
 ],
 "metadata": {
  "kernelspec": {
   "display_name": "Python 3 (ipykernel)",
   "language": "python",
   "name": "python3"
  },
  "language_info": {
   "codemirror_mode": {
    "name": "ipython",
    "version": 3
   },
   "file_extension": ".py",
   "mimetype": "text/x-python",
   "name": "python",
   "nbconvert_exporter": "python",
   "pygments_lexer": "ipython3",
   "version": "3.11.6"
  }
 },
 "nbformat": 4,
 "nbformat_minor": 4
}
