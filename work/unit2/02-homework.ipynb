{
 "cells": [
  {
   "cell_type": "markdown",
   "id": "43702c27-d30b-4347-b462-872a99c0bbe5",
   "metadata": {},
   "source": [
    "# Q1"
   ]
  },
  {
   "cell_type": "code",
   "execution_count": 1,
   "id": "f96fe876-a947-4341-aeeb-5a3927154cdb",
   "metadata": {},
   "outputs": [
    {
     "name": "stdout",
     "output_type": "stream",
     "text": [
      "mlflow, version 2.13.0\n"
     ]
    }
   ],
   "source": [
    "!mlflow --version"
   ]
  },
  {
   "cell_type": "markdown",
   "id": "1692f661-3256-4a36-ba9a-2efa5676b181",
   "metadata": {},
   "source": [
    "# Q2"
   ]
  },
  {
   "cell_type": "code",
   "execution_count": null,
   "id": "49264a15-a261-460c-920f-16556cf16f0d",
   "metadata": {},
   "outputs": [],
   "source": [
    "!wget https://d37ci6vzurychx.cloudfront.net/trip-data/green_tripdata_2023-01.parquet -P /home/ubuntu/Documents/mlops-bootcamp/work/data/green"
   ]
  },
  {
   "cell_type": "code",
   "execution_count": null,
   "id": "f57a340a-8c49-45fc-9357-6b79b24a3ea4",
   "metadata": {},
   "outputs": [],
   "source": [
    "!wget https://d37ci6vzurychx.cloudfront.net/trip-data/green_tripdata_2023-02.parquet -P /home/ubuntu/Documents/mlops-bootcamp/work/data/green"
   ]
  },
  {
   "cell_type": "code",
   "execution_count": null,
   "id": "38d577df-fffe-426b-8b27-557d264c6de6",
   "metadata": {},
   "outputs": [],
   "source": [
    "!wget https://d37ci6vzurychx.cloudfront.net/trip-data/green_tripdata_2023-03.parquet -P /home/ubuntu/Documents/mlops-bootcamp/work/data/green"
   ]
  },
  {
   "cell_type": "code",
   "execution_count": 7,
   "id": "6f2ba5f8-bbf6-4a38-a0d7-5638476db933",
   "metadata": {},
   "outputs": [
    {
     "name": "stdout",
     "output_type": "stream",
     "text": [
      "/home/ubuntu/Documents/mlops-bootcamp/work/unit2\n"
     ]
    }
   ],
   "source": [
    "!pwd"
   ]
  },
  {
   "cell_type": "code",
   "execution_count": 12,
   "id": "5bfaf25a-36fc-438d-8570-915cac26e1e5",
   "metadata": {},
   "outputs": [
    {
     "name": "stdout",
     "output_type": "stream",
     "text": [
      "Usage: preprocess_data.py [OPTIONS]\n",
      "\n",
      "Options:\n",
      "  --raw_data_path TEXT  Location where the raw NYC taxi trip data was saved\n",
      "  --dest_path TEXT      Location where the resulting files will be saved\n",
      "  --help                Show this message and exit.\n"
     ]
    }
   ],
   "source": [
    "!python3 homework/preprocess_data.py --help"
   ]
  },
  {
   "cell_type": "code",
   "execution_count": 13,
   "id": "6b45938e-3c76-4f03-8fd1-5b0a1be4539c",
   "metadata": {},
   "outputs": [],
   "source": [
    "!python3 homework/preprocess_data.py --raw_data_path /home/ubuntu/Documents/mlops-bootcamp/work/data/green/ --dest_path ./output"
   ]
  },
  {
   "cell_type": "code",
   "execution_count": 19,
   "id": "b9e39508-a3b4-40de-ba90-3817d717cb76",
   "metadata": {},
   "outputs": [
    {
     "name": "stdout",
     "output_type": "stream",
     "text": [
      "dv.pkl\ttest.pkl  train.pkl  val.pkl\n"
     ]
    }
   ],
   "source": [
    "!ls ./output"
   ]
  },
  {
   "cell_type": "code",
   "execution_count": 25,
   "id": "c75bc78b-ac3f-4e37-b460-4ed547db3391",
   "metadata": {},
   "outputs": [
    {
     "name": "stdout",
     "output_type": "stream",
     "text": [
      "4\n"
     ]
    }
   ],
   "source": [
    "!ls ./output | wc -l"
   ]
  },
  {
   "cell_type": "markdown",
   "id": "a5813260-2f11-4662-900b-6b669137a852",
   "metadata": {},
   "source": [
    "# Q3"
   ]
  },
  {
   "cell_type": "code",
   "execution_count": 26,
   "id": "8cac2bb5-db01-4e1e-8f59-c76cd1a838c9",
   "metadata": {},
   "outputs": [
    {
     "name": "stdout",
     "output_type": "stream",
     "text": [
      "2024/05/27 13:15:58 INFO mlflow.tracking.fluent: Experiment with name 'random-forest-experiment' does not exist. Creating a new experiment.\n",
      "2024/05/27 13:15:58 WARNING mlflow.utils.autologging_utils: You are using an unsupported version of sklearn. If you encounter errors during autologging, try upgrading / downgrading sklearn to a supported version, or try upgrading MLflow.\n",
      "2024/05/27 13:16:00 WARNING mlflow.sklearn: Failed to log training dataset information to MLflow Tracking. Reason: 'numpy.ndarray' object has no attribute 'toarray'\n",
      "/home/ubuntu/Documents/mlops-bootcamp/work/unit2/venv/lib/python3.9/site-packages/sklearn/metrics/_regression.py:492: FutureWarning: 'squared' is deprecated in version 1.4 and will be removed in 1.6. To calculate the root mean squared error, use the function'root_mean_squared_error'.\n",
      "  warnings.warn(\n"
     ]
    }
   ],
   "source": [
    "!python3 homework/train.py"
   ]
  },
  {
   "cell_type": "code",
   "execution_count": null,
   "id": "3f163ab0-5a3a-46c3-b31f-28773ec67b84",
   "metadata": {},
   "outputs": [],
   "source": [
    "!mlflow ui"
   ]
  },
  {
   "cell_type": "markdown",
   "id": "728ff63d-2011-4052-8793-868769f770cf",
   "metadata": {},
   "source": [
    "# Q4"
   ]
  },
  {
   "cell_type": "code",
   "execution_count": null,
   "id": "f9d06156-92b0-4d87-a096-6bc32122d91e",
   "metadata": {},
   "outputs": [],
   "source": [
    "!mlflow server --backend-store-uri sqlite:///backend.db --default-artifact-root ./artifacts"
   ]
  },
  {
   "cell_type": "markdown",
   "id": "76931a17-7545-4af4-99de-586149ff76e3",
   "metadata": {},
   "source": [
    "# Q5"
   ]
  },
  {
   "cell_type": "markdown",
   "id": "631f1e37-96e9-4487-bc54-17aa5fc4f3bd",
   "metadata": {},
   "source": [
    "`rmse: 5.335419588556921`"
   ]
  },
  {
   "cell_type": "markdown",
   "id": "a9c4a4c4-5f7c-4409-b5fc-4e94a0fbadb2",
   "metadata": {},
   "source": [
    "# Q6"
   ]
  },
  {
   "cell_type": "markdown",
   "id": "53082d6d-7667-493a-95f6-f28f4ae70007",
   "metadata": {},
   "source": [
    "`Run name: masked-steed-723, Column name: metrics.`test_rmse` 5.567408012462019`"
   ]
  },
  {
   "cell_type": "code",
   "execution_count": null,
   "id": "77eaeced-504a-4891-857b-697b7d5c23c9",
   "metadata": {},
   "outputs": [],
   "source": []
  }
 ],
 "metadata": {
  "kernelspec": {
   "display_name": "Python 3 (ipykernel)",
   "language": "python",
   "name": "python3"
  },
  "language_info": {
   "codemirror_mode": {
    "name": "ipython",
    "version": 3
   },
   "file_extension": ".py",
   "mimetype": "text/x-python",
   "name": "python",
   "nbconvert_exporter": "python",
   "pygments_lexer": "ipython3",
   "version": "3.9.19"
  }
 },
 "nbformat": 4,
 "nbformat_minor": 5
}
